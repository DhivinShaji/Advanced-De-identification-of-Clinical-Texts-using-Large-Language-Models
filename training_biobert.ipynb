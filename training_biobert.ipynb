{
  "cells": [
    {
      "cell_type": "code",
      "execution_count": null,
      "metadata": {
        "collapsed": true,
        "id": "e1-UNPbzH4ly"
      },
      "outputs": [],
      "source": [
        "# Install Python 3.7\n",
        "!sudo apt-get update -y\n",
        "!sudo apt-get install python3.7 -y\n",
        "\n",
        "# Check if Python 3.7 is installed\n",
        "!python3.7 --version\n",
        "\n",
        "# Set up alternatives to use Python 3.7\n",
        "!sudo update-alternatives --install /usr/bin/python3 python3 /usr/bin/python3.7 1\n",
        "\n",
        "# Install pip for Python 3.7\n",
        "!sudo apt-get install python3.7-distutils -y\n",
        "!wget https://bootstrap.pypa.io/pip/3.7/get-pip.py -O get-pip.py\n",
        "!python3.7 get-pip.py\n",
        "\n",
        "# Install virtualenv\n",
        "!python3.7 -m pip install virtualenv\n",
        "\n",
        "# Create a virtual environment with Python 3.7\n",
        "!python3.7 -m virtualenv env1\n",
        "\n",
        "# Activate the virtual environment\n",
        "!source env/bin/activate\n",
        "\n",
        "%cd /content/drive/MyDrive/Deidentification/Untitled\n",
        "\n",
        "!pip install Flask\n",
        "!pip install pandas\n",
        "!pip install stanza\n",
        "!pip install sklearn_crfsuite\n",
        "!pip install nltk\n",
        "!pip install tensorflow_hub\n",
        "!pip install tensorflow\n",
        "!pip install keras==2.6.0\n",
        "!pip install keras_preprocessing\n",
        "!pip install seqeval\n",
        "!pip install matplotlib\n",
        "!pip install ipykernel\n",
        "!pip install transformers"
      ]
    },
    {
      "cell_type": "code",
      "execution_count": null,
      "metadata": {
        "id": "RZS74HCUID0n"
      },
      "outputs": [],
      "source": [
        "!python train_framework.py --source_type i2b2 --source_location \"dataset/i2b2/\" --algorithm NER_BioBERT --do_test yes --save_model yes --epochs 15\n"
      ]
    }
  ],
  "metadata": {
    "accelerator": "GPU",
    "colab": {
      "gpuType": "T4",
      "provenance": []
    },
    "kernelspec": {
      "display_name": "Python 3",
      "name": "python3"
    },
    "language_info": {
      "name": "python"
    }
  },
  "nbformat": 4,
  "nbformat_minor": 0
}
