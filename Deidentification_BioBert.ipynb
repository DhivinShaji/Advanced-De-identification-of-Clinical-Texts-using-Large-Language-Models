{
  "cells": [
    {
      "cell_type": "code",
      "execution_count": null,
      "metadata": {
        "collapsed": true,
        "id": "2bl3VAQmTmLF"
      },
      "outputs": [],
      "source": [
        "# Install Python 3.7\n",
        "!sudo apt-get update -y\n",
        "!sudo apt-get install python3.7 -y\n",
        "\n",
        "# Check if Python 3.7 is installed\n",
        "!python3.7 --version"
      ]
    },
    {
      "cell_type": "code",
      "execution_count": null,
      "metadata": {
        "id": "Ihqy9igGUD6u"
      },
      "outputs": [],
      "source": [
        "# Set up alternatives to use Python 3.7\n",
        "!sudo update-alternatives --install /usr/bin/python3 python3 /usr/bin/python3.7 1\n"
      ]
    },
    {
      "cell_type": "code",
      "execution_count": null,
      "metadata": {
        "collapsed": true,
        "id": "lKtApl28UJiN"
      },
      "outputs": [],
      "source": [
        "# Install pip for Python 3.7\n",
        "!sudo apt-get install python3.7-distutils -y\n",
        "!wget https://bootstrap.pypa.io/pip/3.7/get-pip.py -O get-pip.py\n",
        "!python3.7 get-pip.py"
      ]
    },
    {
      "cell_type": "code",
      "execution_count": null,
      "metadata": {
        "collapsed": true,
        "id": "BgiCNE4yUMov"
      },
      "outputs": [],
      "source": [
        "# Install virtualenv\n",
        "!python3.7 -m pip install virtualenv\n",
        "\n",
        "# Create a virtual environment with Python 3.7\n",
        "!python3.7 -m virtualenv env\n",
        "\n",
        "# Activate the virtual environment\n",
        "!source env/bin/activate"
      ]
    },
    {
      "cell_type": "code",
      "execution_count": null,
      "metadata": {
        "collapsed": true,
        "id": "UtTWjQsYg7iO"
      },
      "outputs": [],
      "source": [
        "# Install the required dependencies\n",
        "!pip install Flask\n",
        "!pip install pandas\n",
        "!pip install stanza\n",
        "!pip install transformers\n",
        "!npm install -g localtunnel\n",
        "!pip install nltk\n",
        "!pip install torch\n",
        "!pip install tensorflow\n",
        "!pip install tensorflow_hub\n",
        "!pip install scikit-learn\n"
      ]
    },
    {
      "cell_type": "code",
      "execution_count": 7,
      "metadata": {
        "id": "atm3ZU3YU-uH"
      },
      "outputs": [],
      "source": [
        "#!python3.7 -m pipenv run python train_framework.py --source_type i2b2 --source_location \"dataset/i2b2/\" --algorithm NER_BioBERT --do_test yes --save_model yes --epochs 5\n",
        "\n"
      ]
    },
    {
      "cell_type": "code",
      "execution_count": null,
      "metadata": {
        "id": "dJUApk34pWWk"
      },
      "outputs": [],
      "source": [
        "!curl https://loca.lt/mytunnelpassword\n"
      ]
    },
    {
      "cell_type": "code",
      "source": [
        "%cd /content/drive/MyDrive/Deidentification/DeIDClinic-main/dataset and website/Website copy/"
      ],
      "metadata": {
        "id": "wKOZ5P9lakh2"
      },
      "execution_count": null,
      "outputs": []
    },
    {
      "cell_type": "code",
      "source": [
        "!python app.py"
      ],
      "metadata": {
        "collapsed": true,
        "id": "sSWGQnPpYyu3"
      },
      "execution_count": null,
      "outputs": []
    }
  ],
  "metadata": {
    "accelerator": "GPU",
    "colab": {
      "gpuType": "T4",
      "provenance": []
    },
    "kernelspec": {
      "display_name": "Python 3",
      "name": "python3"
    },
    "language_info": {
      "name": "python"
    }
  },
  "nbformat": 4,
  "nbformat_minor": 0
}